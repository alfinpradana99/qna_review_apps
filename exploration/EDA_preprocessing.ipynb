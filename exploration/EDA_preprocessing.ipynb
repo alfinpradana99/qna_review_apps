{
 "cells": [
  {
   "cell_type": "code",
   "execution_count": 3,
   "metadata": {},
   "outputs": [],
   "source": [
    "import pandas as pd\n",
    "import numpy as np"
   ]
  },
  {
   "cell_type": "code",
   "execution_count": 4,
   "metadata": {},
   "outputs": [],
   "source": [
    "df = pd.read_csv('../data/SPOTIFY_REVIEWS.CSV')\n",
    "df['review_timestamp'] = pd.to_datetime(df['review_timestamp'])"
   ]
  },
  {
   "cell_type": "code",
   "execution_count": 5,
   "metadata": {},
   "outputs": [
    {
     "data": {
      "text/html": [
       "<div>\n",
       "<style scoped>\n",
       "    .dataframe tbody tr th:only-of-type {\n",
       "        vertical-align: middle;\n",
       "    }\n",
       "\n",
       "    .dataframe tbody tr th {\n",
       "        vertical-align: top;\n",
       "    }\n",
       "\n",
       "    .dataframe thead th {\n",
       "        text-align: right;\n",
       "    }\n",
       "</style>\n",
       "<table border=\"1\" class=\"dataframe\">\n",
       "  <thead>\n",
       "    <tr style=\"text-align: right;\">\n",
       "      <th></th>\n",
       "      <th>Unnamed: 0</th>\n",
       "      <th>review_id</th>\n",
       "      <th>pseudo_author_id</th>\n",
       "      <th>author_name</th>\n",
       "      <th>review_text</th>\n",
       "      <th>review_rating</th>\n",
       "      <th>review_likes</th>\n",
       "      <th>author_app_version</th>\n",
       "      <th>review_timestamp</th>\n",
       "    </tr>\n",
       "  </thead>\n",
       "  <tbody>\n",
       "    <tr>\n",
       "      <th>0</th>\n",
       "      <td>0</td>\n",
       "      <td>14a011a8-7544-47b4-8480-c502af0ac26f</td>\n",
       "      <td>152618553977019693742</td>\n",
       "      <td>A Google user</td>\n",
       "      <td>Use it every day</td>\n",
       "      <td>5</td>\n",
       "      <td>1</td>\n",
       "      <td>1.1.0.91</td>\n",
       "      <td>2014-05-27 14:21:48</td>\n",
       "    </tr>\n",
       "    <tr>\n",
       "      <th>1</th>\n",
       "      <td>1</td>\n",
       "      <td>bfa8876b-470e-4640-83a7-77427f7f37e8</td>\n",
       "      <td>234382942865437071667</td>\n",
       "      <td>A Google user</td>\n",
       "      <td>I enjoy the awesome UI of this app, and it has...</td>\n",
       "      <td>5</td>\n",
       "      <td>4</td>\n",
       "      <td>1.1.0.91</td>\n",
       "      <td>2014-05-27 14:36:02</td>\n",
       "    </tr>\n",
       "    <tr>\n",
       "      <th>2</th>\n",
       "      <td>2</td>\n",
       "      <td>70e8252f-058a-47d9-b066-df9e1571c970</td>\n",
       "      <td>174473604608358796368</td>\n",
       "      <td>A Google user</td>\n",
       "      <td>Love it! Especially the new design!</td>\n",
       "      <td>5</td>\n",
       "      <td>2</td>\n",
       "      <td>1.1.0.91</td>\n",
       "      <td>2014-05-27 14:40:01</td>\n",
       "    </tr>\n",
       "    <tr>\n",
       "      <th>3</th>\n",
       "      <td>3</td>\n",
       "      <td>672a155a-e81e-4d28-bdeb-a74c031bc072</td>\n",
       "      <td>286593453219054880269</td>\n",
       "      <td>A Google user</td>\n",
       "      <td>Awesome UI, best music app out there!</td>\n",
       "      <td>5</td>\n",
       "      <td>1</td>\n",
       "      <td>1.1.0.91</td>\n",
       "      <td>2014-05-27 15:17:20</td>\n",
       "    </tr>\n",
       "    <tr>\n",
       "      <th>4</th>\n",
       "      <td>4</td>\n",
       "      <td>bbc1bf95-ed36-41a1-8b98-0f2e314caea5</td>\n",
       "      <td>167276875678680630145</td>\n",
       "      <td>A Google user</td>\n",
       "      <td>As a professional Android developer I'm glad t...</td>\n",
       "      <td>5</td>\n",
       "      <td>10</td>\n",
       "      <td>1.1.0.91</td>\n",
       "      <td>2014-05-27 15:26:48</td>\n",
       "    </tr>\n",
       "  </tbody>\n",
       "</table>\n",
       "</div>"
      ],
      "text/plain": [
       "   Unnamed: 0                             review_id       pseudo_author_id  \\\n",
       "0           0  14a011a8-7544-47b4-8480-c502af0ac26f  152618553977019693742   \n",
       "1           1  bfa8876b-470e-4640-83a7-77427f7f37e8  234382942865437071667   \n",
       "2           2  70e8252f-058a-47d9-b066-df9e1571c970  174473604608358796368   \n",
       "3           3  672a155a-e81e-4d28-bdeb-a74c031bc072  286593453219054880269   \n",
       "4           4  bbc1bf95-ed36-41a1-8b98-0f2e314caea5  167276875678680630145   \n",
       "\n",
       "     author_name                                        review_text  \\\n",
       "0  A Google user                                   Use it every day   \n",
       "1  A Google user  I enjoy the awesome UI of this app, and it has...   \n",
       "2  A Google user                Love it! Especially the new design!   \n",
       "3  A Google user              Awesome UI, best music app out there!   \n",
       "4  A Google user  As a professional Android developer I'm glad t...   \n",
       "\n",
       "   review_rating  review_likes author_app_version    review_timestamp  \n",
       "0              5             1           1.1.0.91 2014-05-27 14:21:48  \n",
       "1              5             4           1.1.0.91 2014-05-27 14:36:02  \n",
       "2              5             2           1.1.0.91 2014-05-27 14:40:01  \n",
       "3              5             1           1.1.0.91 2014-05-27 15:17:20  \n",
       "4              5            10           1.1.0.91 2014-05-27 15:26:48  "
      ]
     },
     "execution_count": 5,
     "metadata": {},
     "output_type": "execute_result"
    }
   ],
   "source": [
    "df.head()"
   ]
  },
  {
   "cell_type": "code",
   "execution_count": 6,
   "metadata": {},
   "outputs": [
    {
     "data": {
      "text/html": [
       "<div>\n",
       "<style scoped>\n",
       "    .dataframe tbody tr th:only-of-type {\n",
       "        vertical-align: middle;\n",
       "    }\n",
       "\n",
       "    .dataframe tbody tr th {\n",
       "        vertical-align: top;\n",
       "    }\n",
       "\n",
       "    .dataframe thead th {\n",
       "        text-align: right;\n",
       "    }\n",
       "</style>\n",
       "<table border=\"1\" class=\"dataframe\">\n",
       "  <thead>\n",
       "    <tr style=\"text-align: right;\">\n",
       "      <th></th>\n",
       "      <th>Unnamed: 0</th>\n",
       "      <th>review_id</th>\n",
       "      <th>pseudo_author_id</th>\n",
       "      <th>author_name</th>\n",
       "      <th>review_text</th>\n",
       "      <th>review_rating</th>\n",
       "      <th>review_likes</th>\n",
       "      <th>author_app_version</th>\n",
       "      <th>review_timestamp</th>\n",
       "    </tr>\n",
       "  </thead>\n",
       "  <tbody>\n",
       "    <tr>\n",
       "      <th>3377418</th>\n",
       "      <td>3377418</td>\n",
       "      <td>41cafb32-c357-48df-97a3-e3867584f0d6</td>\n",
       "      <td>326345911143311484421</td>\n",
       "      <td>su************to</td>\n",
       "      <td>Does not work, always says no internet but U t...</td>\n",
       "      <td>1</td>\n",
       "      <td>0</td>\n",
       "      <td>8.8.82.634</td>\n",
       "      <td>2023-11-15 23:11:02</td>\n",
       "    </tr>\n",
       "    <tr>\n",
       "      <th>3377419</th>\n",
       "      <td>3377419</td>\n",
       "      <td>ad68b04a-ff48-42f6-992b-bd765cdf9e94</td>\n",
       "      <td>322218874321066319125</td>\n",
       "      <td>Pe*******os</td>\n",
       "      <td>Goodjob</td>\n",
       "      <td>5</td>\n",
       "      <td>0</td>\n",
       "      <td>8.8.82.634</td>\n",
       "      <td>2023-11-15 23:11:29</td>\n",
       "    </tr>\n",
       "    <tr>\n",
       "      <th>3377420</th>\n",
       "      <td>3377420</td>\n",
       "      <td>9c36196d-12bc-4049-b7e4-27774a644bed</td>\n",
       "      <td>212802607434520579896</td>\n",
       "      <td>An*********ey</td>\n",
       "      <td>The blues always pull me through.</td>\n",
       "      <td>5</td>\n",
       "      <td>0</td>\n",
       "      <td>8.8.82.634</td>\n",
       "      <td>2023-11-15 23:11:32</td>\n",
       "    </tr>\n",
       "    <tr>\n",
       "      <th>3377421</th>\n",
       "      <td>3377421</td>\n",
       "      <td>ce45e1f8-78ad-40cc-a33b-d4e4672b8c78</td>\n",
       "      <td>415238355983315158902</td>\n",
       "      <td>St***en</td>\n",
       "      <td>awesome but you can't choose your song sometimes</td>\n",
       "      <td>4</td>\n",
       "      <td>0</td>\n",
       "      <td>8.8.82.634</td>\n",
       "      <td>2023-11-15 23:15:45</td>\n",
       "    </tr>\n",
       "    <tr>\n",
       "      <th>3377422</th>\n",
       "      <td>3377422</td>\n",
       "      <td>be4f53b5-8137-45db-a652-265d0518a174</td>\n",
       "      <td>325323583553822680222</td>\n",
       "      <td>Su***ha</td>\n",
       "      <td>Ads again again n again ...worst app</td>\n",
       "      <td>1</td>\n",
       "      <td>0</td>\n",
       "      <td>8.8.82.634</td>\n",
       "      <td>2023-11-15 23:16:10</td>\n",
       "    </tr>\n",
       "  </tbody>\n",
       "</table>\n",
       "</div>"
      ],
      "text/plain": [
       "         Unnamed: 0                             review_id  \\\n",
       "3377418     3377418  41cafb32-c357-48df-97a3-e3867584f0d6   \n",
       "3377419     3377419  ad68b04a-ff48-42f6-992b-bd765cdf9e94   \n",
       "3377420     3377420  9c36196d-12bc-4049-b7e4-27774a644bed   \n",
       "3377421     3377421  ce45e1f8-78ad-40cc-a33b-d4e4672b8c78   \n",
       "3377422     3377422  be4f53b5-8137-45db-a652-265d0518a174   \n",
       "\n",
       "              pseudo_author_id       author_name  \\\n",
       "3377418  326345911143311484421  su************to   \n",
       "3377419  322218874321066319125       Pe*******os   \n",
       "3377420  212802607434520579896     An*********ey   \n",
       "3377421  415238355983315158902           St***en   \n",
       "3377422  325323583553822680222           Su***ha   \n",
       "\n",
       "                                               review_text  review_rating  \\\n",
       "3377418  Does not work, always says no internet but U t...              1   \n",
       "3377419                                            Goodjob              5   \n",
       "3377420                  The blues always pull me through.              5   \n",
       "3377421   awesome but you can't choose your song sometimes              4   \n",
       "3377422               Ads again again n again ...worst app              1   \n",
       "\n",
       "         review_likes author_app_version    review_timestamp  \n",
       "3377418             0         8.8.82.634 2023-11-15 23:11:02  \n",
       "3377419             0         8.8.82.634 2023-11-15 23:11:29  \n",
       "3377420             0         8.8.82.634 2023-11-15 23:11:32  \n",
       "3377421             0         8.8.82.634 2023-11-15 23:15:45  \n",
       "3377422             0         8.8.82.634 2023-11-15 23:16:10  "
      ]
     },
     "execution_count": 6,
     "metadata": {},
     "output_type": "execute_result"
    }
   ],
   "source": [
    "df.tail()"
   ]
  },
  {
   "cell_type": "code",
   "execution_count": 7,
   "metadata": {},
   "outputs": [
    {
     "name": "stdout",
     "output_type": "stream",
     "text": [
      "<class 'pandas.core.frame.DataFrame'>\n",
      "RangeIndex: 3377423 entries, 0 to 3377422\n",
      "Data columns (total 9 columns):\n",
      " #   Column              Dtype         \n",
      "---  ------              -----         \n",
      " 0   Unnamed: 0          int64         \n",
      " 1   review_id           object        \n",
      " 2   pseudo_author_id    object        \n",
      " 3   author_name         object        \n",
      " 4   review_text         object        \n",
      " 5   review_rating       int64         \n",
      " 6   review_likes        int64         \n",
      " 7   author_app_version  object        \n",
      " 8   review_timestamp    datetime64[ns]\n",
      "dtypes: datetime64[ns](1), int64(3), object(5)\n",
      "memory usage: 231.9+ MB\n"
     ]
    }
   ],
   "source": [
    "df.info()"
   ]
  },
  {
   "cell_type": "code",
   "execution_count": 8,
   "metadata": {},
   "outputs": [
    {
     "data": {
      "text/html": [
       "<div>\n",
       "<style scoped>\n",
       "    .dataframe tbody tr th:only-of-type {\n",
       "        vertical-align: middle;\n",
       "    }\n",
       "\n",
       "    .dataframe tbody tr th {\n",
       "        vertical-align: top;\n",
       "    }\n",
       "\n",
       "    .dataframe thead th {\n",
       "        text-align: right;\n",
       "    }\n",
       "</style>\n",
       "<table border=\"1\" class=\"dataframe\">\n",
       "  <thead>\n",
       "    <tr style=\"text-align: right;\">\n",
       "      <th></th>\n",
       "      <th>review_id</th>\n",
       "      <th>pseudo_author_id</th>\n",
       "      <th>author_name</th>\n",
       "      <th>review_text</th>\n",
       "      <th>author_app_version</th>\n",
       "    </tr>\n",
       "  </thead>\n",
       "  <tbody>\n",
       "    <tr>\n",
       "      <th>count</th>\n",
       "      <td>3377423</td>\n",
       "      <td>3377423</td>\n",
       "      <td>3377423</td>\n",
       "      <td>3376401</td>\n",
       "      <td>2711000</td>\n",
       "    </tr>\n",
       "    <tr>\n",
       "      <th>unique</th>\n",
       "      <td>3377423</td>\n",
       "      <td>3377423</td>\n",
       "      <td>545445</td>\n",
       "      <td>2281787</td>\n",
       "      <td>818</td>\n",
       "    </tr>\n",
       "    <tr>\n",
       "      <th>top</th>\n",
       "      <td>14a011a8-7544-47b4-8480-c502af0ac26f</td>\n",
       "      <td>152618553977019693742</td>\n",
       "      <td>A Google user</td>\n",
       "      <td>Good</td>\n",
       "      <td>8.4.72.845</td>\n",
       "    </tr>\n",
       "    <tr>\n",
       "      <th>freq</th>\n",
       "      <td>1</td>\n",
       "      <td>1</td>\n",
       "      <td>1843971</td>\n",
       "      <td>55697</td>\n",
       "      <td>46024</td>\n",
       "    </tr>\n",
       "  </tbody>\n",
       "</table>\n",
       "</div>"
      ],
      "text/plain": [
       "                                   review_id       pseudo_author_id  \\\n",
       "count                                3377423                3377423   \n",
       "unique                               3377423                3377423   \n",
       "top     14a011a8-7544-47b4-8480-c502af0ac26f  152618553977019693742   \n",
       "freq                                       1                      1   \n",
       "\n",
       "          author_name review_text author_app_version  \n",
       "count         3377423     3376401            2711000  \n",
       "unique         545445     2281787                818  \n",
       "top     A Google user        Good         8.4.72.845  \n",
       "freq          1843971       55697              46024  "
      ]
     },
     "execution_count": 8,
     "metadata": {},
     "output_type": "execute_result"
    }
   ],
   "source": [
    "df.describe(include=[object])"
   ]
  },
  {
   "cell_type": "code",
   "execution_count": 9,
   "metadata": {},
   "outputs": [
    {
     "data": {
      "text/html": [
       "<div>\n",
       "<style scoped>\n",
       "    .dataframe tbody tr th:only-of-type {\n",
       "        vertical-align: middle;\n",
       "    }\n",
       "\n",
       "    .dataframe tbody tr th {\n",
       "        vertical-align: top;\n",
       "    }\n",
       "\n",
       "    .dataframe thead th {\n",
       "        text-align: right;\n",
       "    }\n",
       "</style>\n",
       "<table border=\"1\" class=\"dataframe\">\n",
       "  <thead>\n",
       "    <tr style=\"text-align: right;\">\n",
       "      <th></th>\n",
       "      <th>Unnamed: 0</th>\n",
       "      <th>review_rating</th>\n",
       "      <th>review_likes</th>\n",
       "    </tr>\n",
       "  </thead>\n",
       "  <tbody>\n",
       "    <tr>\n",
       "      <th>count</th>\n",
       "      <td>3.377423e+06</td>\n",
       "      <td>3.377423e+06</td>\n",
       "      <td>3.377423e+06</td>\n",
       "    </tr>\n",
       "    <tr>\n",
       "      <th>mean</th>\n",
       "      <td>1.688711e+06</td>\n",
       "      <td>4.043836e+00</td>\n",
       "      <td>1.092705e+00</td>\n",
       "    </tr>\n",
       "    <tr>\n",
       "      <th>std</th>\n",
       "      <td>9.749782e+05</td>\n",
       "      <td>1.506860e+00</td>\n",
       "      <td>3.350004e+01</td>\n",
       "    </tr>\n",
       "    <tr>\n",
       "      <th>min</th>\n",
       "      <td>0.000000e+00</td>\n",
       "      <td>0.000000e+00</td>\n",
       "      <td>0.000000e+00</td>\n",
       "    </tr>\n",
       "    <tr>\n",
       "      <th>25%</th>\n",
       "      <td>8.443555e+05</td>\n",
       "      <td>4.000000e+00</td>\n",
       "      <td>0.000000e+00</td>\n",
       "    </tr>\n",
       "    <tr>\n",
       "      <th>50%</th>\n",
       "      <td>1.688711e+06</td>\n",
       "      <td>5.000000e+00</td>\n",
       "      <td>0.000000e+00</td>\n",
       "    </tr>\n",
       "    <tr>\n",
       "      <th>75%</th>\n",
       "      <td>2.533066e+06</td>\n",
       "      <td>5.000000e+00</td>\n",
       "      <td>0.000000e+00</td>\n",
       "    </tr>\n",
       "    <tr>\n",
       "      <th>max</th>\n",
       "      <td>3.377422e+06</td>\n",
       "      <td>5.000000e+00</td>\n",
       "      <td>1.382400e+04</td>\n",
       "    </tr>\n",
       "  </tbody>\n",
       "</table>\n",
       "</div>"
      ],
      "text/plain": [
       "         Unnamed: 0  review_rating  review_likes\n",
       "count  3.377423e+06   3.377423e+06  3.377423e+06\n",
       "mean   1.688711e+06   4.043836e+00  1.092705e+00\n",
       "std    9.749782e+05   1.506860e+00  3.350004e+01\n",
       "min    0.000000e+00   0.000000e+00  0.000000e+00\n",
       "25%    8.443555e+05   4.000000e+00  0.000000e+00\n",
       "50%    1.688711e+06   5.000000e+00  0.000000e+00\n",
       "75%    2.533066e+06   5.000000e+00  0.000000e+00\n",
       "max    3.377422e+06   5.000000e+00  1.382400e+04"
      ]
     },
     "execution_count": 9,
     "metadata": {},
     "output_type": "execute_result"
    }
   ],
   "source": [
    "df.describe(include=[np.number])"
   ]
  },
  {
   "cell_type": "code",
   "execution_count": 10,
   "metadata": {},
   "outputs": [
    {
     "data": {
      "text/plain": [
       "Unnamed: 0                 0\n",
       "review_id                  0\n",
       "pseudo_author_id           0\n",
       "author_name                0\n",
       "review_text             1022\n",
       "review_rating              0\n",
       "review_likes               0\n",
       "author_app_version    666423\n",
       "review_timestamp           0\n",
       "dtype: int64"
      ]
     },
     "execution_count": 10,
     "metadata": {},
     "output_type": "execute_result"
    }
   ],
   "source": [
    "df.isna().sum()"
   ]
  },
  {
   "cell_type": "code",
   "execution_count": 11,
   "metadata": {},
   "outputs": [
    {
     "data": {
      "text/plain": [
       "review_rating\n",
       "5    2185815\n",
       "1     530849\n",
       "4     348881\n",
       "3     178543\n",
       "2     133334\n",
       "0          1\n",
       "Name: count, dtype: int64"
      ]
     },
     "execution_count": 11,
     "metadata": {},
     "output_type": "execute_result"
    }
   ],
   "source": [
    "df['review_rating'].value_counts()"
   ]
  },
  {
   "cell_type": "code",
   "execution_count": 12,
   "metadata": {},
   "outputs": [
    {
     "data": {
      "text/plain": [
       "review_likes\n",
       "0       3108438\n",
       "1        161224\n",
       "2         32192\n",
       "3         14705\n",
       "4          8882\n",
       "         ...   \n",
       "1528          1\n",
       "4219          1\n",
       "436           1\n",
       "2266          1\n",
       "1822          1\n",
       "Name: count, Length: 1204, dtype: int64"
      ]
     },
     "execution_count": 12,
     "metadata": {},
     "output_type": "execute_result"
    }
   ],
   "source": [
    "df['review_likes'].value_counts()"
   ]
  },
  {
   "cell_type": "code",
   "execution_count": 13,
   "metadata": {},
   "outputs": [
    {
     "name": "stdout",
     "output_type": "stream",
     "text": [
      "Initial row count, 3377422 row\n",
      "current df row count, 2680592 row\n",
      "There are 696830 duplicates found in the dataset\n"
     ]
    }
   ],
   "source": [
    "# feature Unnamed: 0, review_id, pseudo_author_id, author_name and author_app_version will be dropped because got no additional information\n",
    "df = df.drop(['Unnamed: 0', 'review_id', 'pseudo_author_id', 'author_name', 'author_app_version'], axis=1)\n",
    "\n",
    "# extract review date into month\n",
    "df['review_month'] = pd.to_datetime(df['review_timestamp']).dt.month_name()\n",
    "\n",
    "# extract into semester basis\n",
    "df['semester'] = df['review_timestamp'].dt.year.astype(str) + ' S' + ((df['review_timestamp'].dt.month - 1) // 6 + 1).astype(str)\n",
    "\n",
    "# drop the review timestamp\n",
    "df = df.drop(['review_timestamp'], axis=1)\n",
    "\n",
    "# remove review with 0 rating\n",
    "df = df[df['review_rating'] != 0]\n",
    "\n",
    "# remove duplicates as well\n",
    "initial_shape = df.shape[0]\n",
    "print(f\"Initial row count, {initial_shape} row\")\n",
    "df = df.drop_duplicates().reset_index(drop=True)\n",
    "\n",
    "# remove null value in review text\n",
    "df = df.dropna(subset=['review_text']).reset_index(drop=True)\n",
    "\n",
    "# Stores the number of rows after removing duplicates\n",
    "current_shape = df.shape[0]\n",
    "print(f\"current df row count, {current_shape} row\")\n",
    "print(f\"There are {initial_shape-current_shape} duplicates found in the dataset\")  # Prints the number of duplicates that were removed"
   ]
  },
  {
   "cell_type": "code",
   "execution_count": 14,
   "metadata": {},
   "outputs": [
    {
     "data": {
      "text/html": [
       "<div>\n",
       "<style scoped>\n",
       "    .dataframe tbody tr th:only-of-type {\n",
       "        vertical-align: middle;\n",
       "    }\n",
       "\n",
       "    .dataframe tbody tr th {\n",
       "        vertical-align: top;\n",
       "    }\n",
       "\n",
       "    .dataframe thead th {\n",
       "        text-align: right;\n",
       "    }\n",
       "</style>\n",
       "<table border=\"1\" class=\"dataframe\">\n",
       "  <thead>\n",
       "    <tr style=\"text-align: right;\">\n",
       "      <th></th>\n",
       "      <th>review_text</th>\n",
       "      <th>review_rating</th>\n",
       "      <th>review_likes</th>\n",
       "      <th>review_month</th>\n",
       "      <th>semester</th>\n",
       "    </tr>\n",
       "  </thead>\n",
       "  <tbody>\n",
       "    <tr>\n",
       "      <th>0</th>\n",
       "      <td>Use it every day</td>\n",
       "      <td>5</td>\n",
       "      <td>1</td>\n",
       "      <td>May</td>\n",
       "      <td>2014 S1</td>\n",
       "    </tr>\n",
       "    <tr>\n",
       "      <th>1</th>\n",
       "      <td>I enjoy the awesome UI of this app, and it has...</td>\n",
       "      <td>5</td>\n",
       "      <td>4</td>\n",
       "      <td>May</td>\n",
       "      <td>2014 S1</td>\n",
       "    </tr>\n",
       "    <tr>\n",
       "      <th>2</th>\n",
       "      <td>Love it! Especially the new design!</td>\n",
       "      <td>5</td>\n",
       "      <td>2</td>\n",
       "      <td>May</td>\n",
       "      <td>2014 S1</td>\n",
       "    </tr>\n",
       "    <tr>\n",
       "      <th>3</th>\n",
       "      <td>Awesome UI, best music app out there!</td>\n",
       "      <td>5</td>\n",
       "      <td>1</td>\n",
       "      <td>May</td>\n",
       "      <td>2014 S1</td>\n",
       "    </tr>\n",
       "    <tr>\n",
       "      <th>4</th>\n",
       "      <td>As a professional Android developer I'm glad t...</td>\n",
       "      <td>5</td>\n",
       "      <td>10</td>\n",
       "      <td>May</td>\n",
       "      <td>2014 S1</td>\n",
       "    </tr>\n",
       "    <tr>\n",
       "      <th>...</th>\n",
       "      <td>...</td>\n",
       "      <td>...</td>\n",
       "      <td>...</td>\n",
       "      <td>...</td>\n",
       "      <td>...</td>\n",
       "    </tr>\n",
       "    <tr>\n",
       "      <th>2680587</th>\n",
       "      <td>Does not work, always says no internet but U t...</td>\n",
       "      <td>1</td>\n",
       "      <td>0</td>\n",
       "      <td>November</td>\n",
       "      <td>2023 S2</td>\n",
       "    </tr>\n",
       "    <tr>\n",
       "      <th>2680588</th>\n",
       "      <td>Goodjob</td>\n",
       "      <td>5</td>\n",
       "      <td>0</td>\n",
       "      <td>November</td>\n",
       "      <td>2023 S2</td>\n",
       "    </tr>\n",
       "    <tr>\n",
       "      <th>2680589</th>\n",
       "      <td>The blues always pull me through.</td>\n",
       "      <td>5</td>\n",
       "      <td>0</td>\n",
       "      <td>November</td>\n",
       "      <td>2023 S2</td>\n",
       "    </tr>\n",
       "    <tr>\n",
       "      <th>2680590</th>\n",
       "      <td>awesome but you can't choose your song sometimes</td>\n",
       "      <td>4</td>\n",
       "      <td>0</td>\n",
       "      <td>November</td>\n",
       "      <td>2023 S2</td>\n",
       "    </tr>\n",
       "    <tr>\n",
       "      <th>2680591</th>\n",
       "      <td>Ads again again n again ...worst app</td>\n",
       "      <td>1</td>\n",
       "      <td>0</td>\n",
       "      <td>November</td>\n",
       "      <td>2023 S2</td>\n",
       "    </tr>\n",
       "  </tbody>\n",
       "</table>\n",
       "<p>2680592 rows × 5 columns</p>\n",
       "</div>"
      ],
      "text/plain": [
       "                                               review_text  review_rating  \\\n",
       "0                                         Use it every day              5   \n",
       "1        I enjoy the awesome UI of this app, and it has...              5   \n",
       "2                      Love it! Especially the new design!              5   \n",
       "3                    Awesome UI, best music app out there!              5   \n",
       "4        As a professional Android developer I'm glad t...              5   \n",
       "...                                                    ...            ...   \n",
       "2680587  Does not work, always says no internet but U t...              1   \n",
       "2680588                                            Goodjob              5   \n",
       "2680589                  The blues always pull me through.              5   \n",
       "2680590   awesome but you can't choose your song sometimes              4   \n",
       "2680591               Ads again again n again ...worst app              1   \n",
       "\n",
       "         review_likes review_month semester  \n",
       "0                   1          May  2014 S1  \n",
       "1                   4          May  2014 S1  \n",
       "2                   2          May  2014 S1  \n",
       "3                   1          May  2014 S1  \n",
       "4                  10          May  2014 S1  \n",
       "...               ...          ...      ...  \n",
       "2680587             0     November  2023 S2  \n",
       "2680588             0     November  2023 S2  \n",
       "2680589             0     November  2023 S2  \n",
       "2680590             0     November  2023 S2  \n",
       "2680591             0     November  2023 S2  \n",
       "\n",
       "[2680592 rows x 5 columns]"
      ]
     },
     "execution_count": 14,
     "metadata": {},
     "output_type": "execute_result"
    }
   ],
   "source": [
    "# shape - 2,680,592 x 4\n",
    "df"
   ]
  },
  {
   "cell_type": "code",
   "execution_count": 15,
   "metadata": {},
   "outputs": [],
   "source": [
    "import matplotlib.pyplot as plt"
   ]
  },
  {
   "cell_type": "code",
   "execution_count": 16,
   "metadata": {},
   "outputs": [
    {
     "data": {
      "image/png": "[encoded data removed]",
      "text/plain": [
       "<Figure size 800x400 with 1 Axes>"
      ]
     },
     "metadata": {},
     "output_type": "display_data"
    }
   ],
   "source": [
    "# Count the occurrences\n",
    "counts = df['review_rating'].value_counts().sort_index(ascending=True)\n",
    "\n",
    "# Create the bar plot\n",
    "plt.figure(figsize=(8, 4))\n",
    "plt.bar(counts.index, counts.values, color='skyblue')\n",
    "\n",
    "# Set plot labels and title\n",
    "plt.xlabel('Rating'); plt.ylabel('Count'); plt.title('Review Rating Counts')\n",
    "plt.show()"
   ]
  },
  {
   "cell_type": "code",
   "execution_count": 17,
   "metadata": {},
   "outputs": [
    {
     "data": {
      "image/png": "[encoded data removed]",
      "text/plain": [
       "<Figure size 1500x300 with 1 Axes>"
      ]
     },
     "metadata": {},
     "output_type": "display_data"
    }
   ],
   "source": [
    "# Count the occurrences\n",
    "counts = df['review_month'].value_counts().reindex([\n",
    "    'January', 'February', 'March', 'April', 'May', 'June', \n",
    "    'July', 'August', 'September', 'October', 'November', 'December'\n",
    "])\n",
    "\n",
    "# Create the bar plot\n",
    "plt.figure(figsize=(15, 3))\n",
    "plt.bar(counts.index, counts.values, color='skyblue')\n",
    "\n",
    "# Set plot labels and title\n",
    "plt.xlabel('Month'); plt.ylabel('Count'); plt.title('Review Counts per Month')\n",
    "plt.show()"
   ]
  },
  {
   "cell_type": "code",
   "execution_count": 18,
   "metadata": {},
   "outputs": [
    {
     "data": {
      "image/png": "[encoded data removed]",
      "text/plain": [
       "<Figure size 1500x300 with 1 Axes>"
      ]
     },
     "metadata": {},
     "output_type": "display_data"
    }
   ],
   "source": [
    "# Count the occurrences\n",
    "counts = df['semester'].value_counts().sort_index(ascending=True)\n",
    "\n",
    "# Create the bar plot\n",
    "plt.figure(figsize=(15, 3))\n",
    "plt.bar(counts.index, counts.values, color='skyblue')\n",
    "\n",
    "# Set plot labels and title\n",
    "plt.xlabel('Semester'); plt.ylabel('Count'); plt.title('Review Counts Each Semester'); plt.xticks(rotation=45)\n",
    "plt.show()"
   ]
  },
  {
   "cell_type": "code",
   "execution_count": 19,
   "metadata": {},
   "outputs": [
    {
     "data": {
      "image/png": "[encoded data removed]",
      "text/plain": [
       "<Figure size 1500x300 with 1 Axes>"
      ]
     },
     "metadata": {},
     "output_type": "display_data"
    }
   ],
   "source": [
    "# Histogram of likes\n",
    "plt.figure(figsize=(15, 3))\n",
    "plt.hist(df['review_likes'], bins=30, color='skyblue', edgecolor='black', log=True)\n",
    "plt.xlabel('Likes'); plt.ylabel('Frequency'); plt.title('Distribution of Review Likes')\n",
    "plt.show()"
   ]
  },
  {
   "cell_type": "code",
   "execution_count": 20,
   "metadata": {},
   "outputs": [],
   "source": [
    "# for now we are going to only use the text features for our QnA Model"
   ]
  },
  {
   "cell_type": "code",
   "execution_count": 21,
   "metadata": {},
   "outputs": [],
   "source": [
    "# retain all alphanumeric and symbol, while removing irrelevant text (emoji, etc)\n",
    "import re\n",
    "\n",
    "def preprocess_text(input_text):\n",
    "    # Define regex pattern to retain alphanumeric characters, symbols, and spaces\n",
    "    pattern = r'[^a-zA-Z0-9\\s!@#$%&*()-_=+,.;:?/\"\\'\\\\<>[\\]{}^`~]'\n",
    "    # Replace matched pattern with empty string\n",
    "    processed_text = re.sub(pattern, '', input_text)\n",
    "    # Remove extra white spaces\n",
    "    processed_text = re.sub(r'\\s+', ' ', processed_text).strip()\n",
    "    return processed_text\n",
    "\n",
    "df['review_text'] = df['review_text'].apply(preprocess_text)"
   ]
  },
  {
   "cell_type": "code",
   "execution_count": 22,
   "metadata": {},
   "outputs": [
    {
     "name": "stdout",
     "output_type": "stream",
     "text": [
      "Initial row count, 2680592 row\n"
     ]
    }
   ],
   "source": [
    "initial_shape = df.shape[0]\n",
    "print(f\"Initial row count, {initial_shape} row\")"
   ]
  },
  {
   "cell_type": "code",
   "execution_count": 23,
   "metadata": {},
   "outputs": [],
   "source": [
    "# remove duplicated text that exist\n",
    "df = df.iloc[df['review_text'].drop_duplicates(keep='first').index].reset_index(drop=True)\n",
    "\n",
    "# remove review that only contains number\n",
    "df = df[df['review_text'].apply(lambda x: pd.to_numeric(x, errors='coerce')).isnull()]\n",
    "\n",
    "# remove null value and empty value\n",
    "df = df[df['review_text'] != '']\n",
    "df = df.dropna(subset=['review_text']).reset_index(drop=True)"
   ]
  },
  {
   "cell_type": "code",
   "execution_count": 24,
   "metadata": {},
   "outputs": [
    {
     "name": "stdout",
     "output_type": "stream",
     "text": [
      "current df row count, 2205421 row\n",
      "There are 475171 problematic text in the dataset\n"
     ]
    }
   ],
   "source": [
    "current_shape = df.shape[0]\n",
    "print(f\"current df row count, {current_shape} row\")\n",
    "print(f\"There are {initial_shape-current_shape} problematic text in the dataset\")"
   ]
  },
  {
   "cell_type": "code",
   "execution_count": 25,
   "metadata": {},
   "outputs": [],
   "source": [
    "# analyze the word length\n",
    "df['text_len'] = df['review_text'].apply(lambda x:len(x.split()))"
   ]
  },
  {
   "cell_type": "code",
   "execution_count": 26,
   "metadata": {},
   "outputs": [
    {
     "data": {
      "text/plain": [
       "count    2.205421e+06\n",
       "mean     1.833830e+01\n",
       "std      1.944598e+01\n",
       "min      1.000000e+00\n",
       "25%      6.000000e+00\n",
       "50%      1.100000e+01\n",
       "75%      2.300000e+01\n",
       "max      6.990000e+02\n",
       "Name: text_len, dtype: float64"
      ]
     },
     "execution_count": 26,
     "metadata": {},
     "output_type": "execute_result"
    }
   ],
   "source": [
    "df['text_len'].describe()"
   ]
  },
  {
   "cell_type": "code",
   "execution_count": 27,
   "metadata": {},
   "outputs": [
    {
     "name": "stdout",
     "output_type": "stream",
     "text": [
      "percentile  [  0.  10.  20.  30.  40.  50.  60.  70.  80.  90. 100.]\n",
      "text length  [  1.   3.   5.   7.   9.  11.  15.  20.  28.  43. 699.]\n"
     ]
    }
   ],
   "source": [
    "# text word length with percentile from 0 to 100\n",
    "print('percentile ', np.linspace(0, 100, 11))\n",
    "print('text length ', np.percentile(df['text_len'], np.linspace(0, 100, 11)))"
   ]
  },
  {
   "cell_type": "code",
   "execution_count": 28,
   "metadata": {},
   "outputs": [
    {
     "name": "stdout",
     "output_type": "stream",
     "text": [
      "percentile  [95, 97, 99, 99.9]\n",
      "text length  [61. 74. 92. 97.]\n"
     ]
    }
   ],
   "source": [
    "# review with most length is around 699, we can trim this down so the length is quite similar with other review.\n",
    "print('percentile ', [95,97,99,99.9])\n",
    "print('text length ', np.percentile(df['text_len'], [95,97,99,99.5]))\n",
    "\n",
    "# we can cut the max text length into just 100 words"
   ]
  },
  {
   "cell_type": "code",
   "execution_count": 29,
   "metadata": {},
   "outputs": [],
   "source": [
    "def preprocess_review_text(review_text):\n",
    "    # Split the review_text into words\n",
    "    words = review_text.split()\n",
    "    # Trim the words to a maximum of 100\n",
    "    trimmed_words = words[:100]\n",
    "    # Join the trimmed words back into a single string\n",
    "    trimmed_review_text = ' '.join(trimmed_words)\n",
    "    return trimmed_review_text\n",
    "\n",
    "df['review_text'] = df['review_text'].apply(preprocess_review_text)\n",
    "df['text_len'] = df['review_text'].apply(lambda x:len(x.split()))"
   ]
  },
  {
   "cell_type": "code",
   "execution_count": 30,
   "metadata": {},
   "outputs": [
    {
     "name": "stdout",
     "output_type": "stream",
     "text": [
      "percentile  [  0.  10.  20.  30.  40.  50.  60.  70.  80.  90. 100.]\n",
      "text length  [  1.   3.   5.   7.   9.  11.  15.  20.  28.  43. 100.]\n"
     ]
    }
   ],
   "source": [
    "# text word length with percentile from 0 to 100\n",
    "print('percentile ', np.linspace(0, 100, 11))\n",
    "print('text length ', np.percentile(df['text_len'], np.linspace(0, 100, 11)))"
   ]
  },
  {
   "cell_type": "code",
   "execution_count": 31,
   "metadata": {},
   "outputs": [
    {
     "data": {
      "image/png": "[encoded data removed]",
      "text/plain": [
       "<Figure size 1500x300 with 1 Axes>"
      ]
     },
     "metadata": {},
     "output_type": "display_data"
    }
   ],
   "source": [
    "# Histogram of likes\n",
    "plt.figure(figsize=(15, 3))\n",
    "plt.hist(df['text_len'], bins=30, color='skyblue', edgecolor='black', log=True)\n",
    "plt.xlabel('text_len'); plt.ylabel('Frequency'); plt.title('Distribution of text_len')\n",
    "plt.show()"
   ]
  },
  {
   "cell_type": "code",
   "execution_count": 32,
   "metadata": {},
   "outputs": [],
   "source": [
    "# calculate each review tokens, for embedding cost calculation"
   ]
  },
  {
   "cell_type": "code",
   "execution_count": 33,
   "metadata": {},
   "outputs": [],
   "source": [
    "import tiktoken\n",
    "\n",
    "def num_tokens_from_string(string: str) -> int:\n",
    "    \"\"\"Returns the number of tokens in a text string.\"\"\"\n",
    "    encoding = tiktoken.get_encoding(\"cl100k_base\")\n",
    "    num_tokens = len(encoding.encode(string))\n",
    "    return num_tokens\n",
    "\n",
    "df['review_token'] = df['review_text'].apply(num_tokens_from_string)"
   ]
  },
  {
   "cell_type": "code",
   "execution_count": 34,
   "metadata": {},
   "outputs": [
    {
     "data": {
      "text/plain": [
       "47725458"
      ]
     },
     "execution_count": 34,
     "metadata": {},
     "output_type": "execute_result"
    }
   ],
   "source": [
    "df['review_token'].sum()"
   ]
  },
  {
   "cell_type": "code",
   "execution_count": null,
   "metadata": {},
   "outputs": [],
   "source": [
    "# embedding pricing using text-embedding-3-small \n",
    "# 62,500 pages per dollar\n",
    "# ~800 token per pages\n",
    "# 1 dollar = 50,000,000 token"
   ]
  },
  {
   "cell_type": "code",
   "execution_count": null,
   "metadata": {},
   "outputs": [],
   "source": [
    "# estimated embedding whole dataset is around 1 dollar\n",
    "# 47,725,692"
   ]
  },
  {
   "cell_type": "code",
   "execution_count": null,
   "metadata": {},
   "outputs": [
    {
     "data": {
      "text/plain": [
       "(2205422, 7)"
      ]
     },
     "execution_count": 34,
     "metadata": {},
     "output_type": "execute_result"
    }
   ],
   "source": [
    "# we can use all of the dataset, so we will not sample and use whole text as our source of QnA bot\n",
    "df.shape"
   ]
  },
  {
   "cell_type": "code",
   "execution_count": 35,
   "metadata": {},
   "outputs": [],
   "source": [
    "df = df.dropna(subset=['review_text']).reset_index(drop=True)"
   ]
  },
  {
   "cell_type": "code",
   "execution_count": 36,
   "metadata": {},
   "outputs": [],
   "source": [
    "df.to_csv('../data/SPOTIFY_REVIEWS_CLEAN.csv', index=False)"
   ]
  },
  {
   "cell_type": "markdown",
   "metadata": {},
   "source": [
    "=========================================================================================="
   ]
  },
  {
   "cell_type": "code",
   "execution_count": null,
   "metadata": {},
   "outputs": [],
   "source": []
  },
  {
   "cell_type": "code",
   "execution_count": 22,
   "metadata": {},
   "outputs": [],
   "source": [
    "# Calculate percentiles\n",
    "percentiles = np.percentile(df['text_len'], np.linspace(0, 100, 11))\n",
    "\n",
    "# Bucketize text lengths based on percentiles\n",
    "df['text_len_bucket'] = pd.cut(df['text_len'], bins=percentiles, labels=range(1, 11))"
   ]
  },
  {
   "cell_type": "code",
   "execution_count": 36,
   "metadata": {},
   "outputs": [
    {
     "data": {
      "text/html": [
       "<div>\n",
       "<style scoped>\n",
       "    .dataframe tbody tr th:only-of-type {\n",
       "        vertical-align: middle;\n",
       "    }\n",
       "\n",
       "    .dataframe tbody tr th {\n",
       "        vertical-align: top;\n",
       "    }\n",
       "\n",
       "    .dataframe thead th {\n",
       "        text-align: right;\n",
       "    }\n",
       "</style>\n",
       "<table border=\"1\" class=\"dataframe\">\n",
       "  <thead>\n",
       "    <tr style=\"text-align: right;\">\n",
       "      <th></th>\n",
       "      <th>review_text</th>\n",
       "      <th>review_rating</th>\n",
       "      <th>review_likes</th>\n",
       "      <th>review_month</th>\n",
       "      <th>semester</th>\n",
       "      <th>text_len</th>\n",
       "    </tr>\n",
       "  </thead>\n",
       "  <tbody>\n",
       "    <tr>\n",
       "      <th>569</th>\n",
       "      <td>Love Spotify. Love how it reinvented the way we find and listen to music. Also love the fact that I never have to download music from the web or buy it from overpriced iTunes again. However, it's not a huge deal, but a heads-up would have been nice... To those whining about having to listen to music on shuffle mode: what do you expect? The artists have to make money somehow, right? So if you wanna listen to the music of YOUR choice whenever YOU like on all of your little gadgets, quit crying and cough up the $10/month...it's really</td>\n",
       "      <td>5</td>\n",
       "      <td>1</td>\n",
       "      <td>May</td>\n",
       "      <td>2014 S1</td>\n",
       "      <td>100</td>\n",
       "    </tr>\n",
       "    <tr>\n",
       "      <th>687</th>\n",
       "      <td>Use it all the time. Use it on my phone, computer and tablet. Can't say enough about how much the premium is worth $10 a month. Easily the best investment. Only downside is they don't have all of the songs I want and some times they don't have new songs as early as I'd like but it's rare that they don't get the songs relatively quickly and the ones they don't have are pretty hard to find anyway so I don't blame them. I'd give them a 4.7/5 if I could just for that reason but other than that it's</td>\n",
       "      <td>5</td>\n",
       "      <td>0</td>\n",
       "      <td>May</td>\n",
       "      <td>2014 S1</td>\n",
       "      <td>100</td>\n",
       "    </tr>\n",
       "    <tr>\n",
       "      <th>1472</th>\n",
       "      <td>So I pay spotify a subscription fee only to arrive at work to be told I have to re download spotify to use the app? I download it on painfully slow uk mobile broadband at my expense to find my entire library has been removed from my phone..... So I have to go a long 12 hour workday in front of financial spreadsheets with no music. Thanks a lot spotify for this stupid move. Every other app on the app store keeps data when it updates, why not yours? And why force the update? No Grace period? ? I will</td>\n",
       "      <td>1</td>\n",
       "      <td>0</td>\n",
       "      <td>May</td>\n",
       "      <td>2014 S1</td>\n",
       "      <td>100</td>\n",
       "    </tr>\n",
       "    <tr>\n",
       "      <th>2074</th>\n",
       "      <td>I keep an old phone just for running etc and only have music, camera and map apps on there. For some reason Spotify has more than quadrupled in size so I can neither use the old app nor install the new one owing to limited space. So in the twinkling of an eye Spotify has rendered itself useless on that device. Along with the other well publicised issues with 'Your Music' versus playlists, and the API limitations and it's looking like another Facebook debacle. Why app developers feel it makes sound commercial sense to force users to be limited to</td>\n",
       "      <td>3</td>\n",
       "      <td>0</td>\n",
       "      <td>May</td>\n",
       "      <td>2014 S1</td>\n",
       "      <td>100</td>\n",
       "    </tr>\n",
       "    <tr>\n",
       "      <th>2294</th>\n",
       "      <td>I would give anything for the \"+\" to be used for adding songs to playlists. Because it's the addition sign and generally that means adding something to something else not saving it for safekeeping (maybe use the ole floppy disk vector since everyone recognizes that as saving even though they have no idea what that image is). Also bring back the star button. now I have two favorite lists and it's really frustrating cause I would like them all my favorites to be on one go to lists cause that is how I have been using your service. Ugh it's</td>\n",
       "      <td>3</td>\n",
       "      <td>0</td>\n",
       "      <td>May</td>\n",
       "      <td>2014 S1</td>\n",
       "      <td>100</td>\n",
       "    </tr>\n",
       "    <tr>\n",
       "      <th>2391</th>\n",
       "      <td>After many years of subscription I finally gave up. Constant issues with the Android app with little or no focus on tablet users. Clueless customer support, it's really not my job as a paying customer to explain them how Android works and if it is, how can I ever get helpful replies? They even discontinued support for many Android devices while preventing the use of old app just few days ago. Too bad since the service itself is great and Spotify in my opinion is the company that started it all but if I have zero issues with competitor's functionality,</td>\n",
       "      <td>2</td>\n",
       "      <td>0</td>\n",
       "      <td>May</td>\n",
       "      <td>2014 S1</td>\n",
       "      <td>100</td>\n",
       "    </tr>\n",
       "    <tr>\n",
       "      <th>2396</th>\n",
       "      <td>I don't even mind that I had to redownload everything - that happens every now and then anyway. What bothers me is that we have a piece of software that manages to make my phone crash, forget that files are downloaded, not even start up, struggle to move from one track to the next and any number of other problems. I know my phone's almost 2 whole years old (shocking I know...), but you'd think a quad core processor and 2GB of RAM would be enough to run a music app solidly... When it works, I love Spotify - it's</td>\n",
       "      <td>3</td>\n",
       "      <td>0</td>\n",
       "      <td>May</td>\n",
       "      <td>2014 S1</td>\n",
       "      <td>100</td>\n",
       "    </tr>\n",
       "    <tr>\n",
       "      <th>3470</th>\n",
       "      <td>I like to use the sounds effects (equalizer) to give a more powerful but clean bass, and when using it I have to turn device my volume much higher. Which is normally fine, but for the first second of each song on Spotify it does not use the adjusted audio so it is extremely loud. It switches after that first second but I'm left with pain in my ears. Try to patch this bug so that it keeps the sound effects on constantly or allow us to limit an audio output level. Please and then id likely pay for Spotify.</td>\n",
       "      <td>3</td>\n",
       "      <td>1</td>\n",
       "      <td>June</td>\n",
       "      <td>2014 S1</td>\n",
       "      <td>100</td>\n",
       "    </tr>\n",
       "    <tr>\n",
       "      <th>3733</th>\n",
       "      <td>I'm not impressed. I have a galaxy note 3 with tons of memory.and lots of ram . oh and a quad core processor.. I keep my phone clear and clean of junk application that hog resources memory. .. This app is a slow. crappie and resource hog P's I'm definitely uninstalling it . Do too glitches and bugs also keep your noses out of my contacts and stop listening to my phone calls and what business is it of yours where my gps says I am is my business not yours and no you can't see my camera or picks.you</td>\n",
       "      <td>1</td>\n",
       "      <td>0</td>\n",
       "      <td>June</td>\n",
       "      <td>2014 S1</td>\n",
       "      <td>100</td>\n",
       "    </tr>\n",
       "    <tr>\n",
       "      <th>4984</th>\n",
       "      <td>They totally disabled the old app force you to install their new app, so this is not an update. I have to sign in every time I launch the app and download my music (everytime) and if I am not on a WIFI network for some reason it doesn't recognize my 64 GN SD card and I get an error message that my phone has no room to download my music. This means that if I launch this app while on the road it does not work. Gonna contact them for credit and may cancel until this is sorted out.</td>\n",
       "      <td>1</td>\n",
       "      <td>0</td>\n",
       "      <td>June</td>\n",
       "      <td>2014 S1</td>\n",
       "      <td>100</td>\n",
       "    </tr>\n",
       "  </tbody>\n",
       "</table>\n",
       "</div>"
      ],
      "text/plain": [
       "                                                                                                                                                                                                                                                                                                                                                                                                                                                                                                                                                                        review_text  \\\n",
       "569                       Love Spotify. Love how it reinvented the way we find and listen to music. Also love the fact that I never have to download music from the web or buy it from overpriced iTunes again. However, it's not a huge deal, but a heads-up would have been nice... To those whining about having to listen to music on shuffle mode: what do you expect? The artists have to make money somehow, right? So if you wanna listen to the music of YOUR choice whenever YOU like on all of your little gadgets, quit crying and cough up the $10/month...it's really   \n",
       "687                                                             Use it all the time. Use it on my phone, computer and tablet. Can't say enough about how much the premium is worth $10 a month. Easily the best investment. Only downside is they don't have all of the songs I want and some times they don't have new songs as early as I'd like but it's rare that they don't get the songs relatively quickly and the ones they don't have are pretty hard to find anyway so I don't blame them. I'd give them a 4.7/5 if I could just for that reason but other than that it's   \n",
       "1472                                                        So I pay spotify a subscription fee only to arrive at work to be told I have to re download spotify to use the app? I download it on painfully slow uk mobile broadband at my expense to find my entire library has been removed from my phone..... So I have to go a long 12 hour workday in front of financial spreadsheets with no music. Thanks a lot spotify for this stupid move. Every other app on the app store keeps data when it updates, why not yours? And why force the update? No Grace period? ? I will   \n",
       "2074        I keep an old phone just for running etc and only have music, camera and map apps on there. For some reason Spotify has more than quadrupled in size so I can neither use the old app nor install the new one owing to limited space. So in the twinkling of an eye Spotify has rendered itself useless on that device. Along with the other well publicised issues with 'Your Music' versus playlists, and the API limitations and it's looking like another Facebook debacle. Why app developers feel it makes sound commercial sense to force users to be limited to   \n",
       "2294                 I would give anything for the \"+\" to be used for adding songs to playlists. Because it's the addition sign and generally that means adding something to something else not saving it for safekeeping (maybe use the ole floppy disk vector since everyone recognizes that as saving even though they have no idea what that image is). Also bring back the star button. now I have two favorite lists and it's really frustrating cause I would like them all my favorites to be on one go to lists cause that is how I have been using your service. Ugh it's   \n",
       "2391  After many years of subscription I finally gave up. Constant issues with the Android app with little or no focus on tablet users. Clueless customer support, it's really not my job as a paying customer to explain them how Android works and if it is, how can I ever get helpful replies? They even discontinued support for many Android devices while preventing the use of old app just few days ago. Too bad since the service itself is great and Spotify in my opinion is the company that started it all but if I have zero issues with competitor's functionality,   \n",
       "2396                                           I don't even mind that I had to redownload everything - that happens every now and then anyway. What bothers me is that we have a piece of software that manages to make my phone crash, forget that files are downloaded, not even start up, struggle to move from one track to the next and any number of other problems. I know my phone's almost 2 whole years old (shocking I know...), but you'd think a quad core processor and 2GB of RAM would be enough to run a music app solidly... When it works, I love Spotify - it's   \n",
       "3470                                                  I like to use the sounds effects (equalizer) to give a more powerful but clean bass, and when using it I have to turn device my volume much higher. Which is normally fine, but for the first second of each song on Spotify it does not use the adjusted audio so it is extremely loud. It switches after that first second but I'm left with pain in my ears. Try to patch this bug so that it keeps the sound effects on constantly or allow us to limit an audio output level. Please and then id likely pay for Spotify.   \n",
       "3733                                                          I'm not impressed. I have a galaxy note 3 with tons of memory.and lots of ram . oh and a quad core processor.. I keep my phone clear and clean of junk application that hog resources memory. .. This app is a slow. crappie and resource hog P's I'm definitely uninstalling it . Do too glitches and bugs also keep your noses out of my contacts and stop listening to my phone calls and what business is it of yours where my gps says I am is my business not yours and no you can't see my camera or picks.you   \n",
       "4984                                                                             They totally disabled the old app force you to install their new app, so this is not an update. I have to sign in every time I launch the app and download my music (everytime) and if I am not on a WIFI network for some reason it doesn't recognize my 64 GN SD card and I get an error message that my phone has no room to download my music. This means that if I launch this app while on the road it does not work. Gonna contact them for credit and may cancel until this is sorted out.   \n",
       "\n",
       "      review_rating  review_likes review_month semester  text_len  \n",
       "569               5             1          May  2014 S1       100  \n",
       "687               5             0          May  2014 S1       100  \n",
       "1472              1             0          May  2014 S1       100  \n",
       "2074              3             0          May  2014 S1       100  \n",
       "2294              3             0          May  2014 S1       100  \n",
       "2391              2             0          May  2014 S1       100  \n",
       "2396              3             0          May  2014 S1       100  \n",
       "3470              3             1         June  2014 S1       100  \n",
       "3733              1             0         June  2014 S1       100  \n",
       "4984              1             0         June  2014 S1       100  "
      ]
     },
     "execution_count": 36,
     "metadata": {},
     "output_type": "execute_result"
    }
   ],
   "source": [
    "pd.set_option('display.max_rows', 1000)\n",
    "pd.set_option('display.max_columns', 1000)\n",
    "pd.set_option('display.max_colwidth', 1000)\n",
    "df[df['text_len'] == 100].head(10)"
   ]
  },
  {
   "cell_type": "code",
   "execution_count": null,
   "metadata": {},
   "outputs": [],
   "source": []
  }
 ],
 "metadata": {
  "kernelspec": {
   "display_name": "mekari",
   "language": "python",
   "name": "python3"
  },
  "language_info": {
   "codemirror_mode": {
    "name": "ipython",
    "version": 3
   },
   "file_extension": ".py",
   "mimetype": "text/x-python",
   "name": "python",
   "nbconvert_exporter": "python",
   "pygments_lexer": "ipython3",
   "version": "3.12.4"
  }
 },
 "nbformat": 4,
 "nbformat_minor": 2
}
